{
  "metadata": {
    "language_info": {
      "codemirror_mode": {
        "name": "python",
        "version": 3
      },
      "file_extension": ".py",
      "mimetype": "text/x-python",
      "name": "python",
      "nbconvert_exporter": "python",
      "pygments_lexer": "ipython3",
      "version": "3.8"
    },
    "kernelspec": {
      "name": "python",
      "display_name": "Pyolite",
      "language": "python"
    }
  },
  "nbformat_minor": 4,
  "nbformat": 4,
  "cells": [
    {
      "cell_type": "markdown",
      "source": "<H1> My Jupyter Notebook on IBM Watson Studio </H1>",
      "metadata": {}
    },
    {
      "cell_type": "markdown",
      "source": "<B>Alexander Schick</B>\n<br>Data Scientist</br>",
      "metadata": {}
    },
    {
      "cell_type": "markdown",
      "source": "<I>I am interested in data science because I want to further my career. I believe that data science is the future and can solve many tough problems. </I>",
      "metadata": {}
    },
    {
      "cell_type": "markdown",
      "source": "<H3>The code in cell 5 will print \"This is Alex's final project.\"</H3>",
      "metadata": {}
    },
    {
      "cell_type": "code",
      "source": "my_name = \"Alex\"\nprint(\"This is \" + str(my_name) +\"'s final project.\")",
      "metadata": {},
      "execution_count": null,
      "outputs": []
    },
    {
      "cell_type": "markdown",
      "source": "In this cell we need to use at least 3 of the following:\n- horizontal rule\n- <S>bulleted list</S>\n- numbered list\n- tables\n- hyperlinks\n- images\n- code/syntax highlighting\n- <S>blocked quotes</S>\n- <S>strikethrough</S>\n\n> I chose to use bulleted list, strikethrough and blocked quote.\n",
      "metadata": {}
    },
    {
      "cell_type": "code",
      "source": "",
      "metadata": {},
      "execution_count": null,
      "outputs": []
    }
  ]
}